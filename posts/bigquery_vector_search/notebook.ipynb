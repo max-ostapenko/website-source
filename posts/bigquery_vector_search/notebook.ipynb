{
  "cells": [
    {
      "cell_type": "markdown",
      "metadata": {
        "colab_type": "text",
        "id": "view-in-github"
      },
      "source": [
        "<a href=\"https://colab.research.google.com/github/max-ostapenko/website-source/blob/main/posts/bigquery_vector_search/notebook.ipynb\" target=\"_parent\"><img src=\"https://colab.research.google.com/assets/colab-badge.svg\" alt=\"Open In Colab\"/></a>"
      ]
    },
    {
      "cell_type": "markdown",
      "metadata": {
        "id": "UU5H-5FeW6eD"
      },
      "source": [
        "# Configure environment and resources\n",
        "\n"
      ]
    },
    {
      "cell_type": "markdown",
      "metadata": {
        "id": "oNvqBYvLmInt"
      },
      "source": [
        "## Authorise Google Colab with GCP access"
      ]
    },
    {
      "cell_type": "code",
      "execution_count": null,
      "metadata": {
        "cellView": "form",
        "colab": {
          "base_uri": "https://localhost:8080/"
        },
        "id": "a9MjY0kiQRyr",
        "outputId": "ac330126-eb3c-474b-f500-231a2ea1a45c"
      },
      "outputs": [],
      "source": [
        "from google.colab import auth\n",
        "auth.authenticate_user()\n",
        "\n",
        "project_id = 'max-ostapenko' # @param {type: \"string\"}\n",
        "dataset_id = 'vector_search' # @param {type: \"string\"}\n",
        "location_id = 'us' # @param {type: \"string\"}\n",
        "\n",
        "# Create a dataset for vector search resources\n",
        "!bq mk --project_id={project_id} --location {location_id} --dataset {dataset_id}"
      ]
    },
    {
      "cell_type": "markdown",
      "metadata": {
        "id": "71OOGBW8mFBv"
      },
      "source": [
        "## Connect Vertex AI model via BigQuery connections"
      ]
    },
    {
      "cell_type": "code",
      "execution_count": null,
      "metadata": {
        "id": "hjaR39aCQ-ql"
      },
      "outputs": [],
      "source": [
        "# Create BigQuery connection to Google cloud resources\n",
        "connection_id = \"vertex_ai-remote_functions-big_lake\"\n",
        "!bq mk --project_id={project_id} --location={location_id} \\\n",
        "    --connection_type=CLOUD_RESOURCE --connection {connection_id}\n",
        "\n",
        "# Extract service account ID from the connection details\n",
        "import subprocess, json\n",
        "connection_details = json.loads(\n",
        "    subprocess.check_output(\"bq show --project_id={project_id} --location={location_id} --format=json --connection {connection_id}\".format(\n",
        "        project_id=project_id,\n",
        "        location_id=location_id,\n",
        "        connection_id=connection_id\n",
        "        ).split(\" \")\n",
        "    ).decode('utf-8')\n",
        ")\n",
        "service_account = connection_details[\"cloudResource\"][\"serviceAccountId\"]\n",
        "\n",
        "# Authorise 'Vertex AI User' role for connection service account\n",
        "!gcloud projects add-iam-policy-binding {project_id} \\\n",
        "    --member='serviceAccount:{service_account}' --role='roles/aiplatform.user' > /dev/null\n",
        "\n",
        "# Create BQ ML model for multimodal embeddings\n",
        "create_model_query = \"\"\"\n",
        "CREATE OR REPLACE MODEL `{project_id}.{dataset_id}.multimodalembedding`\n",
        "REMOTE WITH CONNECTION `{project_id}.{location_id}.vertex_ai-remote_functions-big_lake`\n",
        "OPTIONS (ENDPOINT = \"textembedding-gecko@latest\");\n",
        "\"\"\".format(dataset_id=dataset_id, project_id=project_id, location_id=location_id)\n",
        "!bq query --project_id={project_id} --use_legacy_sql=false '{create_model_query}'"
      ]
    },
    {
      "cell_type": "markdown",
      "metadata": {
        "id": "KQqgQDBsTiA-"
      },
      "source": [
        "# Generate embeddings table\n",
        "\n",
        "[ML.GENERATE_TEXT_EMBEDDING function](https://cloud.google.com/bigquery/docs/reference/standard-sql/bigqueryml-syntax-generate-text-embedding) converts strings to a vector within semantic space.\n",
        "\n",
        "[Cost of multimodal embeddings generation via Vertex AI endpoint](https://cloud.google.com/vertex-ai/pricing#image_generation)."
      ]
    },
    {
      "cell_type": "markdown",
      "metadata": {
        "id": "aV4_ynywmQt8"
      },
      "source": [
        "## Generate embeddings from URLs list"
      ]
    },
    {
      "cell_type": "code",
      "execution_count": null,
      "metadata": {
        "cellView": "form",
        "id": "zNiNg0O9Q69I"
      },
      "outputs": [],
      "source": [
        "# @title { vertical-output: true }\n",
        "get_product_names_query = \"\"\"\n",
        "CREATE OR REPLACE TABLE\n",
        "    `{dataset_id}.url_embedded` AS (\n",
        "    SELECT\n",
        "        *\n",
        "    FROM\n",
        "        ML.GENERATE_TEXT_EMBEDDING( MODEL `{dataset_id}.multimodalembedding`,\n",
        "            (\n",
        "            SELECT\n",
        "                url AS content\n",
        "            FROM `httparchive.urls.latest_crux_desktop`\n",
        "            WHERE rank = 1000\n",
        "            LIMIT 1000 ),\n",
        "            STRUCT(TRUE AS flatten_json_output) ) );\n",
        "\"\"\".format(dataset_id=dataset_id)\n",
        "!bq query --project_id={project_id} --use_legacy_sql=false '{get_product_names_query}'\n",
        "\n",
        "# Preview the table\n",
        "query_product_names = \"\"\"\n",
        "SELECT\n",
        "    content, statistics, ml_embed_text_status, text_embedding\n",
        "FROM\n",
        "`{dataset_id}.url_embedded`\n",
        "LIMIT 5\n",
        "\"\"\".format(dataset_id=dataset_id)\n",
        "!bq query --project_id={project_id} --use_legacy_sql=false '{query_product_names}'"
      ]
    },
    {
      "cell_type": "markdown",
      "metadata": {
        "id": "MARVWOD5mUzq"
      },
      "source": [
        "## Generate embeddings from IMDB catalogue"
      ]
    },
    {
      "cell_type": "code",
      "execution_count": null,
      "metadata": {
        "cellView": "form",
        "id": "VPTxxbBwTupb"
      },
      "outputs": [],
      "source": [
        "# @title { vertical-output: true }\n",
        "get_product_names_query = \"\"\"\n",
        "CREATE OR REPLACE TABLE\n",
        "    `{dataset_id}.movie_title_embedded` AS (\n",
        "    SELECT\n",
        "        *\n",
        "    FROM\n",
        "        ML.GENERATE_TEXT_EMBEDDING( MODEL `{dataset_id}.multimodalembedding`,\n",
        "            (\n",
        "                SELECT\n",
        "                    primary_title as content\n",
        "                FROM `bigquery-public-data.imdb.title_basics`\n",
        "                WHERE\n",
        "                    title_type = \"movie\"\n",
        "                    AND start_year > 1970\n",
        "                    AND is_adult = 0\n",
        "                    AND tconst IN (\n",
        "                        SELECT\n",
        "                            tconst\n",
        "                        FROM `bigquery-public-data.imdb.title_ratings`\n",
        "                        WHERE\n",
        "                            average_rating > 6.5\n",
        "                            AND num_votes > 10000\n",
        "                    )\n",
        "                ),\n",
        "            STRUCT(TRUE AS flatten_json_output) ) );\n",
        "\"\"\".format(dataset_id=dataset_id)\n",
        "!bq query --project_id={project_id} --use_legacy_sql=false '{get_product_names_query}'\n",
        "\n",
        "# Preview the table\n",
        "query_product_names = \"\"\"\n",
        "SELECT\n",
        "    content, statistics, ml_embed_text_status, text_embedding\n",
        "FROM\n",
        "`{dataset_id}.movie_title_embedded`\n",
        "LIMIT 5\n",
        "\"\"\".format(dataset_id=dataset_id)\n",
        "!bq query --project_id={project_id} --use_legacy_sql=false '{query_product_names}'"
      ]
    },
    {
      "cell_type": "markdown",
      "metadata": {
        "id": "tlFNoSI1Tlf-"
      },
      "source": [
        "# Search for neighbours\n",
        "\n",
        "The search cost consists of:\n",
        "- cost of an embedding generation for a search query (can be ignored for short queries),\n",
        "- cost of BigQuery processing."
      ]
    },
    {
      "cell_type": "code",
      "execution_count": 28,
      "metadata": {
        "cellView": "form",
        "id": "aEWbNNUi2LZ7"
      },
      "outputs": [],
      "source": [
        "# @title\n",
        "select_neighbours_query = \"\"\"\n",
        "SELECT\n",
        "    base.content,\n",
        "    EUCLIDEAN_DISTANCE(search.text_embedding, base.text_embedding) AS distance\n",
        "FROM ML.GENERATE_TEXT_EMBEDDING(\n",
        "    MODEL `{dataset_id}.multimodalembedding`,\n",
        "    (SELECT \"{search_query}\" AS content),\n",
        "    STRUCT(TRUE AS flatten_json_output)\n",
        ") AS search\n",
        "CROSS JOIN `{dataset_id}.{source_table}` AS base\n",
        "ORDER BY distance ASC\n",
        "LIMIT {limit};\n",
        "\"\"\""
      ]
    },
    {
      "cell_type": "markdown",
      "metadata": {
        "id": "cRTecvXTmk9Q"
      },
      "source": [
        "## Websites classification"
      ]
    },
    {
      "cell_type": "code",
      "execution_count": 31,
      "metadata": {
        "cellView": "form",
        "colab": {
          "base_uri": "https://localhost:8080/"
        },
        "id": "6j8t1hwIRClX",
        "outputId": "cc6fd939-8508-49da-cc16-b2070b2da68b"
      },
      "outputs": [
        {
          "name": "stdout",
          "output_type": "stream",
          "text": [
            "+--------------------------------+--------------------+\n",
            "|            content             |      distance      |\n",
            "+--------------------------------+--------------------+\n",
            "| https://www.facebook.com/      | 0.6952186979498833 |\n",
            "| https://web.facebook.com/      | 0.7158822720622858 |\n",
            "| https://free.facebook.com/     |  0.740260932509051 |\n",
            "| https://twitter.com/           |   0.75665178425304 |\n",
            "| https://business.facebook.com/ | 0.7568543973313501 |\n",
            "| https://apps.facebook.com/     | 0.7650217870318406 |\n",
            "| https://www.instagram.com/     | 0.7678844917192112 |\n",
            "| https://www.linkedin.com/      | 0.7805433740785335 |\n",
            "| https://www.tiktok.com/        | 0.8015824452215249 |\n",
            "| https://en.wikipedia.org/      | 0.8080364602207089 |\n",
            "+--------------------------------+--------------------+\n"
          ]
        }
      ],
      "source": [
        "search_query = \"Social\" # @param {type: \"string\"}\n",
        "limit = \"10\" # @param {type: \"string\"}\n",
        "\n",
        "search_urls = select_neighbours_query.format(\n",
        "    source_table=\"url_embedded\",\n",
        "    dataset_id=dataset_id,\n",
        "    search_query=search_query,\n",
        "    limit = limit\n",
        ")\n",
        "!bq query --project_id={project_id} --use_legacy_sql=false '{search_urls}'"
      ]
    },
    {
      "cell_type": "markdown",
      "metadata": {
        "id": "5YePQQ0omo9j"
      },
      "source": [
        "## Movie title recommendation"
      ]
    },
    {
      "cell_type": "code",
      "execution_count": 32,
      "metadata": {
        "cellView": "form",
        "colab": {
          "base_uri": "https://localhost:8080/"
        },
        "id": "MGh8MRheT_xl",
        "outputId": "1828a5f8-b895-4c73-ced6-20d68cfeea03"
      },
      "outputs": [
        {
          "name": "stdout",
          "output_type": "stream",
          "text": [
            "+------------------------+--------------------+\n",
            "|        content         |      distance      |\n",
            "+------------------------+--------------------+\n",
            "| Forrest Gump           |  0.693854122498681 |\n",
            "| Fitzcarraldo           | 0.7192698337456384 |\n",
            "| The Godfather          | 0.7495456552309414 |\n",
            "| Pulp Fiction           | 0.7537942915567972 |\n",
            "| Suspiria               | 0.7555659646216765 |\n",
            "| Suspiria               | 0.7555659646216765 |\n",
            "| The Godfather Part II  | 0.7644078793453681 |\n",
            "| Capote                 | 0.7654285032288327 |\n",
            "| Hitchcock              | 0.7744345185709752 |\n",
            "| The Godfather Part III | 0.7786602943923249 |\n",
            "+------------------------+--------------------+\n"
          ]
        }
      ],
      "source": [
        "search_query = \"Francis Ford Coppola\" # @param {type: \"string\"}\n",
        "top_k = \"10\" # @param {type: \"string\"}\n",
        "\n",
        "search_movies = select_neighbours_query.format(\n",
        "    source_table=\"movie_title_embedded\",\n",
        "    dataset_id=dataset_id,\n",
        "    search_query=search_query,\n",
        "    limit = limit\n",
        ")\n",
        "!bq query --project_id={project_id} --use_legacy_sql=false '{search_movies}'"
      ]
    }
  ],
  "metadata": {
    "colab": {
      "authorship_tag": "ABX9TyPndROhP1oWjVJrFAzD28Vf",
      "include_colab_link": true,
      "provenance": [],
      "toc_visible": true
    },
    "kernelspec": {
      "display_name": "Python 3",
      "name": "python3"
    },
    "language_info": {
      "name": "python"
    }
  },
  "nbformat": 4,
  "nbformat_minor": 0
}
