{
  "nbformat": 4,
  "nbformat_minor": 0,
  "metadata": {
    "colab": {
      "name": "imgtocsv.ipynb",
      "provenance": [],
      "collapsed_sections": [],
      "include_colab_link": true
    },
    "kernelspec": {
      "name": "python3",
      "display_name": "Python 3"
    }
  },
  "cells": [
    {
      "cell_type": "markdown",
      "metadata": {
        "id": "view-in-github",
        "colab_type": "text"
      },
      "source": [
        "<a href=\"https://colab.research.google.com/gist/max-ostapenko/e1514c7c96fd99e292242b4639946f3b/imgtocsv.ipynb\" target=\"_parent\"><img src=\"https://colab.research.google.com/assets/colab-badge.svg\" alt=\"Open In Colab\"/></a>"
      ]
    },
    {
      "cell_type": "code",
      "metadata": {
        "id": "74xUdsMoULne",
        "colab_type": "code",
        "colab": {}
      },
      "source": [
        "import numpy\n",
        "import matplotlib\n",
        "from google.colab import files\n",
        "\n",
        "OUTPUT_NAME = \"img.csv\"\n",
        "\n",
        "# read image file\n",
        "upload_data = files.upload()\n",
        "img = next(iter(upload_data))\n",
        "img_data = matplotlib.image.imread(img)\n",
        "\n",
        "# convert image to a 2d array of floats\n",
        "imgarray = numpy.dot(img_data[...,:3], [1, 1, 1])\n",
        "numpy.around(imgarray, decimals=2, out=imgarray)\n",
        "\n",
        "# check array size \n",
        "print(imgarray.shape)\n",
        "\n",
        "# output as CSV\n",
        "numpy.savetxt(OUTPUT_NAME, imgarray, fmt='%.2f', delimiter=\",\")\n",
        "files.download(OUTPUT_NAME)"
      ],
      "execution_count": 0,
      "outputs": []
    }
  ]
}
