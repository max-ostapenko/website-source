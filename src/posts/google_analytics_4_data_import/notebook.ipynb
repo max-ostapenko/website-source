{
  "cells": [
    {
      "cell_type": "markdown",
      "metadata": {},
      "source": [
        "# Google Analytics 4 Data Import\n",
        "\n",
        "[![Open In Colab](https://colab.research.google.com/assets/colab-badge.svg)](https://colab.research.google.com/github/max-ostapenko/website-source/blob/main/src/posts/google_analytics_4_data_import/notebook.ipynb)"
      ]
    },
    {
      "cell_type": "code",
      "execution_count": null,
      "metadata": {},
      "outputs": [],
      "source": [
        "# Install the ga4-data-import package\n",
        "%pip install ga4-data-import -q"
      ]
    },
    {
      "cell_type": "markdown",
      "metadata": {},
      "source": [
        "## 0. Define inputs and authenticate\n",
        "\n"
      ]
    },
    {
      "cell_type": "code",
      "execution_count": null,
      "metadata": {
        "cellView": "form",
        "id": "CjGzK9ZKLKQa"
      },
      "outputs": [],
      "source": [
        "from google.colab import auth\n",
        "auth.authenticate_user()\n",
        "# or run `gcloud auth application-default login` in terminal if you don't use Colab\n",
        "\n",
        "from uuid import uuid4\n",
        "\n",
        "GCP_PROJECT_ID = \"max-ostapenko\"\n",
        "ZONE = \"us-central1-a\"\n",
        "INSTANCE_NAME = \"sftp-server-ga4\"\n",
        "BUCKET_NAME = \"sftp-bucket-ga4\"\n",
        "SFTP_USERNAME = uuid4().hex\n",
        "REGION = ZONE[:-2]\n",
        "\n",
        "!gcloud config set project {GCP_PROJECT_ID}"
      ]
    },
    {
      "cell_type": "markdown",
      "metadata": {},
      "source": [
        "## 1. Create VM Instance for SFTP server."
      ]
    },
    {
      "cell_type": "code",
      "execution_count": null,
      "id": "create_instance",
      "metadata": {
        "cellView": "form",
        "id": "FNvGeLyCLuM-"
      },
      "outputs": [],
      "source": [
        "from ga4_data_import.compute import create_static_address\n",
        "from ga4_data_import.compute import create_instance\n",
        "from ga4_data_import.storage import create_bucket, add_bucket_read_access\n",
        "\n",
        "# Reserve static IP for your server\n",
        "INSTANCE_IP = create_static_address(GCP_PROJECT_ID, REGION, instance_name=INSTANCE_NAME)\n",
        "print(\n",
        "    f\"\"\"Instance IP `{INSTANCE_IP}` is reserved in your project: https://console.cloud.google.com/networking/addresses/list?project={GCP_PROJECT_ID}\"\"\"\n",
        ")\n",
        "\n",
        "instance = create_instance(\n",
        "    instance_name=INSTANCE_NAME,\n",
        "    project_id=GCP_PROJECT_ID,\n",
        "    zone=ZONE,\n",
        "    static_address=INSTANCE_IP,\n",
        "    bucket_name=BUCKET_NAME,\n",
        "    sftp_username=SFTP_USERNAME,\n",
        ")\n",
        "print(\n",
        "    f\"\"\"SFTP server on a VM instance `{INSTANCE_NAME}` is available in your project: https://console.cloud.google.com/compute/instancesDetail/zones/{ZONE}/instances/{INSTANCE_NAME}?project={GCP_PROJECT_ID}\"\"\"\n",
        ")\n",
        "\n",
        "print(\n",
        "    f\"\"\"Now you can enter connection settings to Data Import UI:\n",
        "    Server Username: {SFTP_USERNAME}\"\"\"\n",
        ")"
      ]
    },
    {
      "cell_type": "markdown",
      "metadata": {},
      "source": [
        "## 2. Mount a bucket as read-only on SFTP server."
      ]
    },
    {
      "cell_type": "code",
      "execution_count": null,
      "id": "mount_bucket",
      "metadata": {},
      "outputs": [],
      "source": [
        "SERVICE_ACCOUNT_EMAIL = instance.service_accounts[0].email\n",
        "\n",
        "create_bucket(BUCKET_NAME, REGION)\n",
        "add_bucket_read_access(BUCKET_NAME, SERVICE_ACCOUNT_EMAIL)\n",
        "print(\n",
        "    f\"\"\"Bucket `{BUCKET_NAME}` linked to an SFTP server is available in your project: https://console.cloud.google.com/storage/browser/{BUCKET_NAME}?project={GCP_PROJECT_ID}\"\"\"\n",
        ")"
      ]
    },
    {
      "cell_type": "markdown",
      "metadata": {},
      "source": [
        "## 3. Automate and schedule data export from BigQuery to GCS"
      ]
    },
    {
      "cell_type": "code",
      "execution_count": null,
      "id": "bg_to_gcs",
      "metadata": {},
      "outputs": [],
      "source": [
        "from ga4_data_import.workflow import deploy_workflow, deploy_scheduler\n",
        "\n",
        "WORKFLOW_ID = \"BQ-to-GCS\"\n",
        "SCHEDULER_ID = \"Cost-Data-Export_at_8amUTC\"\n",
        "SCHEDULE = \"* 8 * * *\"\n",
        "QUERY = \"SELECT * FROM `max-ostapenko.Public.cost_data`\"\n",
        "STORAGE_OBJECT = \"cost_data.csv\"\n",
        "\n",
        "deploy_workflow(\n",
        "    GCP_PROJECT_ID,\n",
        "    REGION,\n",
        "    workflow_id=WORKFLOW_ID,\n",
        "    service_account_email=SERVICE_ACCOUNT_EMAIL,\n",
        ")\n",
        "\n",
        "deploy_scheduler(\n",
        "    GCP_PROJECT_ID,\n",
        "    REGION,\n",
        "    scheduler_id=SCHEDULER_ID,\n",
        "    service_account_email=SERVICE_ACCOUNT_EMAIL,\n",
        "    schedule=SCHEDULE,\n",
        "    workflow_id=WORKFLOW_ID,\n",
        "    query=QUERY,\n",
        "    storage_path=f\"gs://{BUCKET_NAME}/{STORAGE_OBJECT}\",\n",
        ")\n",
        "\n",
        "print(\n",
        "    f\"\"\"Workflow and trigger are deployed. Now you can test your data export: https://console.cloud.google.com/cloudscheduler?project={GCP_PROJECT_ID}\"\"\"\n",
        ")"
      ]
    },
    {
      "cell_type": "markdown",
      "metadata": {},
      "source": [
        "## 4. Configure a data source in GA4"
      ]
    },
    {
      "cell_type": "code",
      "execution_count": null,
      "id": "configure_data_source",
      "metadata": {},
      "outputs": [],
      "source": [
        "print(\n",
        "    f\"\"\"Now you can enter connection settings to Data Import UI:\n",
        "    Server Username: {SFTP_USERNAME}\n",
        "    Server url: sftp://{INSTANCE_IP}/{STORAGE_OBJECT}\"\"\"\n",
        ")"
      ]
    },
    {
      "cell_type": "markdown",
      "metadata": {},
      "source": [
        "## 5. Paste and push Public Key from GA4 to SFTP server for authorisation"
      ]
    },
    {
      "cell_type": "code",
      "execution_count": null,
      "id": "add_server_pub_key",
      "metadata": {
        "cellView": "form",
        "id": "vAU86JRlTTsC"
      },
      "outputs": [],
      "source": [
        "from ga4_data_import.compute import add_server_pub_key\n",
        "\n",
        "KEY_VALUE = \"ssh-rsa AAA...ffE= Google Analytics Data Import Key\"\n",
        "add_server_pub_key(\n",
        "    GCP_PROJECT_ID,\n",
        "    ZONE,\n",
        "    instance_name=INSTANCE_NAME,\n",
        "    pub_key=KEY_VALUE,\n",
        "    username=SFTP_USERNAME,\n",
        ")\n",
        "print(\n",
        "    f\"\"\"Public Key is added to your SFTP server. Now you can connect to your SFTP server with your private key.\"\"\"\n",
        ")"
      ]
    }
  ],
  "metadata": {
    "colab": {
      "private_outputs": true,
      "provenance": [],
      "toc_visible": true
    },
    "kernelspec": {
      "display_name": "Python 3",
      "name": "python3"
    },
    "language_info": {
      "codemirror_mode": {
        "name": "ipython",
        "version": 3
      },
      "file_extension": ".py",
      "mimetype": "text/x-python",
      "name": "python",
      "nbconvert_exporter": "python",
      "pygments_lexer": "ipython3",
      "version": "3.9.6"
    }
  },
  "nbformat": 4,
  "nbformat_minor": 0
}
