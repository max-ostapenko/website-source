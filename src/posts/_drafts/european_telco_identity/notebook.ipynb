{
 "cells": [
  {
   "cell_type": "code",
   "execution_count": null,
   "metadata": {
    "vscode": {
     "languageId": "plaintext"
    }
   },
   "outputs": [],
   "source": [
    "from google.colab import auth\n",
    "auth.authenticate_user()\n",
    "\n",
    "project_id = 'httparchive'\n",
    "location_id = 'us'"
   ]
  },
  {
   "cell_type": "code",
   "execution_count": null,
   "metadata": {
    "vscode": {
     "languageId": "plaintext"
    }
   },
   "outputs": [],
   "source": [
    "%bq\n",
    "WITH src AS (\n",
    "  SELECT\n",
    "    date,\n",
    "    NET.REG_DOMAIN(page) AS domain\n",
    "  FROM `httparchive.all.requests`\n",
    "  WHERE (date = \"2024-09-01\" OR date = \"2024-03-01\")\n",
    "    AND is_root_page\n",
    "    AND client = 'mobile'\n",
    "    and type = 'script'\n",
    "    AND url LIKE '%/utiqLoader.js'\n",
    "  GROUP BY 1,2\n",
    ")\n",
    "\n",
    "SELECT\n",
    "  march.domain,\n",
    "  sept.domain\n",
    "FROM (SELECT domain FROM src WHERE date = \"2024-03-01\") as march\n",
    "FULL OUTER JOIN (SELECT domain FROM src WHERE date = \"2024-09-01\") as sept\n",
    "USING (domain)"
   ]
  }
 ],
 "metadata": {
  "language_info": {
   "name": "python"
  }
 },
 "nbformat": 4,
 "nbformat_minor": 2
}
