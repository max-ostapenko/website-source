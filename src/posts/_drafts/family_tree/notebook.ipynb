{
  "nbformat": 4,
  "nbformat_minor": 0,
  "metadata": {
    "colab": {
      "name": "FamilyTree",
      "provenance": [],
      "collapsed_sections": [],
      "toc_visible": true,
      "include_colab_link": true
    },
    "kernelspec": {
      "display_name": "Python 3",
      "name": "python3"
    }
  },
  "cells": [
    {
      "cell_type": "markdown",
      "metadata": {
        "id": "view-in-github",
        "colab_type": "text"
      },
      "source": [
        "<a href=\"https://colab.research.google.com/github/max-ostapenko/website-source/blob/main/src/posts/_drafts/family_tree/notebook.ipynb\" target=\"_parent\"><img src=\"https://colab.research.google.com/assets/colab-badge.svg\" alt=\"Open In Colab\"/></a>"
      ]
    },
    {
      "cell_type": "markdown",
      "metadata": {
        "id": "OCgnTNRAP9da",
        "colab_type": "text"
      },
      "source": [
        "# Family tree generation using [GraphViz](https://graphviz.readthedocs.io/)\n",
        "\n",
        "### TODO\n",
        "\n",
        "1. describe data schema\n",
        "\n",
        "name | type | used in graph\n",
        "---|---|---\n",
        "id | string | 1\n",
        "first_name | string | 1\n",
        "second_name | string | 1\n",
        "family_name | string | 1\n",
        "gender | string | 0\n",
        "father_id | string | 1\n",
        "mother_id | string | 1\n",
        "birth_date| | 1\n",
        "birth_location | string | 0\n",
        "occupation  | string | 0\n",
        "city | string | 0\n",
        "country | string | 0\n",
        "address | string | 0\n",
        "death_date | | 0\n",
        "notes | string | 0\n",
        "\n",
        "\n",
        "2. update chart layout, [example](https://graphviz.gitlab.io/_pages/Gallery/directed/kennedyanc.gv.txt)"
      ]
    },
    {
      "cell_type": "code",
      "metadata": {
        "id": "gKQsSQbDFmIO",
        "colab_type": "code",
        "colab": {}
      },
      "source": [
        "# Authenticate\n",
        "from google.colab import auth\n",
        "auth.authenticate_user()\n",
        "\n",
        "# https://google-auth.readthedocs.io/en/latest/index.html\n",
        "import google.auth\n",
        "SCOPES = ['https://www.googleapis.com/auth/spreadsheets.readonly']\n",
        "credentials, project = google.auth.default(scopes=SCOPES)",
        "\n",
        "# Import data from Google Sheet\n",
        "import gspread\n",
        "gc = gspread.authorize(credentials)\n",
        "\n",
        "nodes = gc.open('FamilyTree').get_worksheet(0).get_all_records(head=1)"
      ],
      "execution_count": 0,
      "outputs": []
    },
    {
      "cell_type": "code",
      "metadata": {
        "colab_type": "code",
        "id": "p2E4EKhCWEC5",
        "outputId": "4c9d8832-5516-4e14-83ac-b81c1bcfa6de",
        "colab": {
          "base_uri": "https://localhost:8080/",
          "height": 34
        }
      },
      "source": [
        "# Build the graph\n",
        "from graphviz import Digraph, Graph\n",
        "\n",
        "D = Digraph(\n",
        "    name=\"Family_tree\",\n",
        "    engine=\"dot\",\n",
        "    format=\"svg\",\n",
        "    graph_attr={},\n",
        "    node_attr={'shape': 'egg'},\n",
        "    edge_attr={'shape': 'bar'}\n",
        ")\n",
        "\n",
        "node_descr = \"\"\"<<table border='0' cellpadding='0' cellspacing='0'>\n",
        "    <tr>\n",
        "        <td align='left'>{0} {1}</td>\n",
        "    </tr>\n",
        "    <tr>\n",
        "        <td align='left'>{2} / {3}</td>\n",
        "    </tr>\n",
        "</table>>\"\"\"\n",
        "\n",
        "for node in nodes:\n",
        "    D.node(str(node[\"id\"]), label=node_descr.format(\n",
        "        node[\"first_name\"],\n",
        "        node[\"family_name\"],\n",
        "        node[\"birth_date\"],\n",
        "        node[\"death_date\"],\n",
        "    ))\n",
        "    \n",
        "    if(node[\"father_id\"]!=\"\"):\n",
        "        D.edge(str(node[\"id\"]), str(node[\"father_id\"]), label=\"F\")\n",
        "    if(node[\"mother_id\"]!=\"\"):\n",
        "        D.edge(str(node[\"id\"]), str(node[\"mother_id\"]), label=\"M\")\n",
        "\n",
        "D.render()\n"
      ],
      "execution_count": 0,
      "outputs": [
        {
          "output_type": "execute_result",
          "data": {
            "text/plain": [
              "'Family_tree1.gv.svg'"
            ]
          },
          "metadata": {
            "tags": []
          },
          "execution_count": 7
        }
      ]
    }
  ]
}
